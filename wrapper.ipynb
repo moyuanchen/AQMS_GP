{
 "cells": [
  {
   "cell_type": "code",
   "execution_count": 5,
   "id": "0b4c6f53",
   "metadata": {},
   "outputs": [],
   "source": [
    "from util_v3 import *\n",
    "import pandas as pd\n",
    "import warnings\n",
    "warnings.filterwarnings(\"ignore\")\n",
    "import matplotlib.pyplot as plt"
   ]
  },
  {
   "cell_type": "code",
   "execution_count": 6,
   "id": "2ca6b0d5",
   "metadata": {},
   "outputs": [],
   "source": [
    "ar = pd.read_csv('ar_processed.csv', index_col=0)\n",
    "mf = pd.read_csv('mf_processed.csv', index_col=0)"
   ]
  },
  {
   "cell_type": "code",
   "execution_count": 7,
   "id": "daecce17",
   "metadata": {},
   "outputs": [],
   "source": [
    "class Portfolio_IT:\n",
    "    def __init__(self, df_ar, df_mf, target_vol = 0.05):\n",
    "        self.df_ar = df_ar\n",
    "        self.df_mf = df_mf\n",
    "        self.target_vol = target_vol\n",
    "\n",
    "    def get_portfolio(self):\n",
    "        return construct_it_portfolio(self.df_ar, self.df_mf, target_vol=self.target_vol)\n",
    "class Portfolio_MP:\n",
    "    def __init__(self, df_ar, df_mf, target_vol = 0.05):\n",
    "        self.df_ar = df_ar\n",
    "        self.df_mf = df_mf\n",
    "        self.target_vol = target_vol\n",
    "\n",
    "    def get_portfolio(self):\n",
    "        return construct_mp_portfolio(self.df_ar, self.df_mf, target_vol=self.target_vol)\n",
    "class Portfolio_RS:\n",
    "    def __init__(self, df_ar, df_mf, target_vol = 0.05):\n",
    "        self.df_ar = df_ar\n",
    "        self.df_mf = df_mf\n",
    "        self.target_vol = target_vol\n",
    "\n",
    "    def get_portfolio(self):\n",
    "        return construct_rs_portfolio(self.df_ar, self.df_mf, target_vol=self.target_vol)"
   ]
  },
  {
   "cell_type": "code",
   "execution_count": 9,
   "id": "5dc66e83",
   "metadata": {},
   "outputs": [
    {
     "ename": "NameError",
     "evalue": "name 'it_returns' is not defined",
     "output_type": "error",
     "traceback": [
      "\u001b[0;31m---------------------------------------------------------------------------\u001b[0m",
      "\u001b[0;31mNameError\u001b[0m                                 Traceback (most recent call last)",
      "Cell \u001b[0;32mIn[9], line 18\u001b[0m\n\u001b[1;32m     12\u001b[0m rs_returns \u001b[38;5;241m=\u001b[39m rs_portfolio[\u001b[38;5;124m'\u001b[39m\u001b[38;5;124mreturns\u001b[39m\u001b[38;5;124m'\u001b[39m]\n\u001b[1;32m     14\u001b[0m \u001b[38;5;66;03m# it_portfolio['cumulative_returns'] = it_returns.cumsum()\u001b[39;00m\n\u001b[1;32m     15\u001b[0m \u001b[38;5;66;03m# mp_portfolio['cumulative_returns'] = mp_returns.cumsum()\u001b[39;00m\n\u001b[1;32m     16\u001b[0m \u001b[38;5;66;03m# rs_portfolio['cumulative_returns'] = rs_returns.cumsum()\u001b[39;00m\n\u001b[0;32m---> 18\u001b[0m plt\u001b[38;5;241m.\u001b[39mplot(it_returns\u001b[38;5;241m.\u001b[39mindex, it_returns, label\u001b[38;5;241m=\u001b[39m\u001b[38;5;124m'\u001b[39m\u001b[38;5;124mIT Portfolio\u001b[39m\u001b[38;5;124m'\u001b[39m, color\u001b[38;5;241m=\u001b[39m\u001b[38;5;124m'\u001b[39m\u001b[38;5;124mblue\u001b[39m\u001b[38;5;124m'\u001b[39m)\n\u001b[1;32m     19\u001b[0m plt\u001b[38;5;241m.\u001b[39mplot(mp_returns\u001b[38;5;241m.\u001b[39mindex, mp_returns, label\u001b[38;5;241m=\u001b[39m\u001b[38;5;124m'\u001b[39m\u001b[38;5;124mMP Portfolio\u001b[39m\u001b[38;5;124m'\u001b[39m, color\u001b[38;5;241m=\u001b[39m\u001b[38;5;124m'\u001b[39m\u001b[38;5;124morange\u001b[39m\u001b[38;5;124m'\u001b[39m)\n\u001b[1;32m     20\u001b[0m plt\u001b[38;5;241m.\u001b[39mplot(rs_returns\u001b[38;5;241m.\u001b[39mindex, rs_returns, label\u001b[38;5;241m=\u001b[39m\u001b[38;5;124m'\u001b[39m\u001b[38;5;124mRS Portfolio\u001b[39m\u001b[38;5;124m'\u001b[39m, color\u001b[38;5;241m=\u001b[39m\u001b[38;5;124m'\u001b[39m\u001b[38;5;124mgreen\u001b[39m\u001b[38;5;124m'\u001b[39m)\n",
      "\u001b[0;31mNameError\u001b[0m: name 'it_returns' is not defined"
     ]
    }
   ],
   "source": [
    "target_vol = 0.01\n",
    "\n",
    "it = Portfolio_IT(ar, mf, target_vol=target_vol)\n",
    "mp = Portfolio_MP(ar, mf, target_vol=target_vol)\n",
    "rs = Portfolio_RS(ar, mf, target_vol=target_vol)\n",
    "# it_portfolio = it.get_portfolio()\n",
    "# mp_portfolio = mp.get_portfolio()\n",
    "rs_portfolio = rs.get_portfolio()\n",
    "\n",
    "# it_returns = it_portfolio['returns']\n",
    "# mp_returns = mp_portfolio['returns']\n",
    "rs_returns = rs_portfolio['returns']\n",
    "\n",
    "# it_portfolio['cumulative_returns'] = it_returns.cumsum()\n",
    "# mp_portfolio['cumulative_returns'] = mp_returns.cumsum()\n",
    "# rs_portfolio['cumulative_returns'] = rs_returns.cumsum()\n",
    "\n",
    "plt.plot(it_returns.index, it_returns, label='IT Portfolio', color='blue')\n",
    "plt.plot(mp_returns.index, mp_returns, label='MP Portfolio', color='orange')\n",
    "plt.plot(rs_returns.index, rs_returns, label='RS Portfolio', color='green')\n",
    "plt.title('Cumulative Returns of Portfolios')"
   ]
  },
  {
   "cell_type": "code",
   "execution_count": 2,
   "id": "6f430fdc",
   "metadata": {},
   "outputs": [
    {
     "ename": "NameError",
     "evalue": "name 'it_portfolio' is not defined",
     "output_type": "error",
     "traceback": [
      "\u001b[0;31m---------------------------------------------------------------------------\u001b[0m",
      "\u001b[0;31mNameError\u001b[0m                                 Traceback (most recent call last)",
      "Cell \u001b[0;32mIn[2], line 1\u001b[0m\n\u001b[0;32m----> 1\u001b[0m it_portfolio[\u001b[38;5;124m'\u001b[39m\u001b[38;5;124mreturns\u001b[39m\u001b[38;5;124m'\u001b[39m]\u001b[38;5;241m.\u001b[39mplot(marker\u001b[38;5;241m=\u001b[39m\u001b[38;5;124m'\u001b[39m\u001b[38;5;124mo\u001b[39m\u001b[38;5;124m'\u001b[39m)\n",
      "\u001b[0;31mNameError\u001b[0m: name 'it_portfolio' is not defined"
     ]
    }
   ],
   "source": [
    "it_portfolio['returns'].plot(marker='o')"
   ]
  },
  {
   "cell_type": "code",
   "execution_count": null,
   "id": "95b7ecbe",
   "metadata": {},
   "outputs": [],
   "source": []
  }
 ],
 "metadata": {
  "kernelspec": {
   "display_name": "ai",
   "language": "python",
   "name": "python3"
  },
  "language_info": {
   "codemirror_mode": {
    "name": "ipython",
    "version": 3
   },
   "file_extension": ".py",
   "mimetype": "text/x-python",
   "name": "python",
   "nbconvert_exporter": "python",
   "pygments_lexer": "ipython3",
   "version": "3.12.2"
  }
 },
 "nbformat": 4,
 "nbformat_minor": 5
}
